{
 "cells": [
  {
   "cell_type": "code",
   "execution_count": 1,
   "metadata": {
    "collapsed": true
   },
   "outputs": [],
   "source": [
    "# importing libraries\n",
    "import pandas as pd\n",
    "import numpy as np"
   ]
  },
  {
   "cell_type": "code",
   "execution_count": 3,
   "metadata": {
    "collapsed": false
   },
   "outputs": [
    {
     "name": "stdout",
     "output_type": "stream",
     "text": [
      "0     1\n",
      "1     2\n",
      "2     1\n",
      "3     4\n",
      "4     2\n",
      "5     3\n",
      "6     3\n",
      "7     3\n",
      "8     1\n",
      "9     1\n",
      "10    2\n",
      "11    1\n",
      "12    1\n",
      "13    4\n",
      "14    4\n",
      "15    4\n",
      "16    2\n",
      "17    2\n",
      "18    3\n",
      "19    1\n",
      "20    4\n",
      "21    1\n",
      "22    1\n",
      "23    3\n",
      "24    3\n",
      "25    3\n",
      "26    3\n",
      "27    1\n",
      "28    4\n",
      "29    1\n",
      "     ..\n",
      "70    4\n",
      "71    2\n",
      "72    3\n",
      "73    2\n",
      "74    3\n",
      "75    3\n",
      "76    3\n",
      "77    2\n",
      "78    3\n",
      "79    4\n",
      "80    1\n",
      "81    1\n",
      "82    1\n",
      "83    1\n",
      "84    4\n",
      "85    2\n",
      "86    3\n",
      "87    4\n",
      "88    1\n",
      "89    3\n",
      "90    4\n",
      "91    1\n",
      "92    3\n",
      "93    3\n",
      "94    3\n",
      "95    3\n",
      "96    4\n",
      "97    3\n",
      "98    3\n",
      "99    4\n",
      "dtype: int32 0     2\n",
      "1     3\n",
      "2     2\n",
      "3     3\n",
      "4     2\n",
      "5     3\n",
      "6     2\n",
      "7     3\n",
      "8     3\n",
      "9     2\n",
      "10    2\n",
      "11    3\n",
      "12    1\n",
      "13    3\n",
      "14    2\n",
      "15    1\n",
      "16    2\n",
      "17    1\n",
      "18    1\n",
      "19    2\n",
      "20    2\n",
      "21    1\n",
      "22    3\n",
      "23    1\n",
      "24    3\n",
      "25    1\n",
      "26    1\n",
      "27    1\n",
      "28    2\n",
      "29    2\n",
      "     ..\n",
      "70    2\n",
      "71    2\n",
      "72    3\n",
      "73    1\n",
      "74    2\n",
      "75    3\n",
      "76    1\n",
      "77    3\n",
      "78    1\n",
      "79    1\n",
      "80    1\n",
      "81    1\n",
      "82    2\n",
      "83    1\n",
      "84    3\n",
      "85    2\n",
      "86    1\n",
      "87    2\n",
      "88    1\n",
      "89    1\n",
      "90    2\n",
      "91    3\n",
      "92    3\n",
      "93    2\n",
      "94    2\n",
      "95    1\n",
      "96    2\n",
      "97    1\n",
      "98    2\n",
      "99    1\n",
      "dtype: int32 0     28901\n",
      "1     12697\n",
      "2     14207\n",
      "3     26441\n",
      "4     21971\n",
      "5     17767\n",
      "6     26073\n",
      "7     29884\n",
      "8     12179\n",
      "9     11918\n",
      "10    23329\n",
      "11    11717\n",
      "12    16797\n",
      "13    24074\n",
      "14    15094\n",
      "15    13219\n",
      "16    28542\n",
      "17    26637\n",
      "18    14107\n",
      "19    16636\n",
      "20    17149\n",
      "21    29589\n",
      "22    13988\n",
      "23    23875\n",
      "24    10542\n",
      "25    24454\n",
      "26    23960\n",
      "27    26753\n",
      "28    18799\n",
      "29    14027\n",
      "      ...  \n",
      "70    22862\n",
      "71    27508\n",
      "72    29723\n",
      "73    11002\n",
      "74    26137\n",
      "75    17184\n",
      "76    11139\n",
      "77    25435\n",
      "78    18005\n",
      "79    26178\n",
      "80    11020\n",
      "81    21488\n",
      "82    20487\n",
      "83    11021\n",
      "84    25927\n",
      "85    21185\n",
      "86    23949\n",
      "87    25173\n",
      "88    13051\n",
      "89    26802\n",
      "90    11829\n",
      "91    26923\n",
      "92    27407\n",
      "93    21114\n",
      "94    18304\n",
      "95    17461\n",
      "96    18677\n",
      "97    26943\n",
      "98    27443\n",
      "99    24205\n",
      "dtype: int32\n"
     ]
    }
   ],
   "source": [
    "s1 = pd.Series(np.random.randint(1, high=5, size=100, dtype='l'))\n",
    "s2 = pd.Series(np.random.randint(1, high=4, size=100, dtype='l'))\n",
    "s3 = pd.Series(np.random.randint(10000, high=30001, size=100, dtype='l'))\n",
    "\n",
    "print(s1,s2,s3)"
   ]
  },
  {
   "cell_type": "code",
   "execution_count": 4,
   "metadata": {
    "collapsed": false
   },
   "outputs": [
    {
     "data": {
      "text/html": [
       "<div>\n",
       "<table border=\"1\" class=\"dataframe\">\n",
       "  <thead>\n",
       "    <tr style=\"text-align: right;\">\n",
       "      <th></th>\n",
       "      <th>0</th>\n",
       "      <th>1</th>\n",
       "      <th>2</th>\n",
       "    </tr>\n",
       "  </thead>\n",
       "  <tbody>\n",
       "    <tr>\n",
       "      <th>0</th>\n",
       "      <td>1</td>\n",
       "      <td>2</td>\n",
       "      <td>28901</td>\n",
       "    </tr>\n",
       "    <tr>\n",
       "      <th>1</th>\n",
       "      <td>2</td>\n",
       "      <td>3</td>\n",
       "      <td>12697</td>\n",
       "    </tr>\n",
       "    <tr>\n",
       "      <th>2</th>\n",
       "      <td>1</td>\n",
       "      <td>2</td>\n",
       "      <td>14207</td>\n",
       "    </tr>\n",
       "    <tr>\n",
       "      <th>3</th>\n",
       "      <td>4</td>\n",
       "      <td>3</td>\n",
       "      <td>26441</td>\n",
       "    </tr>\n",
       "    <tr>\n",
       "      <th>4</th>\n",
       "      <td>2</td>\n",
       "      <td>2</td>\n",
       "      <td>21971</td>\n",
       "    </tr>\n",
       "  </tbody>\n",
       "</table>\n",
       "</div>"
      ],
      "text/plain": [
       "   0  1      2\n",
       "0  1  2  28901\n",
       "1  2  3  12697\n",
       "2  1  2  14207\n",
       "3  4  3  26441\n",
       "4  2  2  21971"
      ]
     },
     "execution_count": 4,
     "metadata": {},
     "output_type": "execute_result"
    }
   ],
   "source": [
    "# create a DataFrame by joinning the Series by column\n",
    "df = pd.concat([s1,s2,s3], axis=1)\n",
    "df.head()"
   ]
  },
  {
   "cell_type": "code",
   "execution_count": 5,
   "metadata": {
    "collapsed": false
   },
   "outputs": [
    {
     "data": {
      "text/html": [
       "<div>\n",
       "<table border=\"1\" class=\"dataframe\">\n",
       "  <thead>\n",
       "    <tr style=\"text-align: right;\">\n",
       "      <th></th>\n",
       "      <th>bedrs</th>\n",
       "      <th>bathrs</th>\n",
       "      <th>price_sqr_meter</th>\n",
       "    </tr>\n",
       "  </thead>\n",
       "  <tbody>\n",
       "    <tr>\n",
       "      <th>0</th>\n",
       "      <td>1</td>\n",
       "      <td>2</td>\n",
       "      <td>28901</td>\n",
       "    </tr>\n",
       "    <tr>\n",
       "      <th>1</th>\n",
       "      <td>2</td>\n",
       "      <td>3</td>\n",
       "      <td>12697</td>\n",
       "    </tr>\n",
       "    <tr>\n",
       "      <th>2</th>\n",
       "      <td>1</td>\n",
       "      <td>2</td>\n",
       "      <td>14207</td>\n",
       "    </tr>\n",
       "    <tr>\n",
       "      <th>3</th>\n",
       "      <td>4</td>\n",
       "      <td>3</td>\n",
       "      <td>26441</td>\n",
       "    </tr>\n",
       "    <tr>\n",
       "      <th>4</th>\n",
       "      <td>2</td>\n",
       "      <td>2</td>\n",
       "      <td>21971</td>\n",
       "    </tr>\n",
       "  </tbody>\n",
       "</table>\n",
       "</div>"
      ],
      "text/plain": [
       "   bedrs  bathrs  price_sqr_meter\n",
       "0      1       2            28901\n",
       "1      2       3            12697\n",
       "2      1       2            14207\n",
       "3      4       3            26441\n",
       "4      2       2            21971"
      ]
     },
     "execution_count": 5,
     "metadata": {},
     "output_type": "execute_result"
    }
   ],
   "source": [
    "# Change the name of the columns to bedrs, bathrs, price_sqr_meter\n",
    "df.rename(columns = {0: 'bedrs', 1: 'bathrs', 2: 'price_sqr_meter'}, inplace=1)\n",
    "df.head()"
   ]
  },
  {
   "cell_type": "code",
   "execution_count": 10,
   "metadata": {
    "collapsed": false
   },
   "outputs": [
    {
     "data": {
      "text/plain": [
       "pandas.core.frame.DataFrame"
      ]
     },
     "execution_count": 10,
     "metadata": {},
     "output_type": "execute_result"
    }
   ],
   "source": [
    "# Create a one column DataFrame with the values of the 3 Series and assign it to 'bigcolumn'\n",
    "bigColumn = pd.concat([s1,s2,s3], axis=0) # Series\n",
    "type(bigColumn)\n",
    "bigColumn = bigColumn.to_frame()\n",
    "type(bigColumn)"
   ]
  },
  {
   "cell_type": "code",
   "execution_count": 14,
   "metadata": {
    "collapsed": false
   },
   "outputs": [
    {
     "data": {
      "text/html": [
       "<div>\n",
       "<table border=\"1\" class=\"dataframe\">\n",
       "  <thead>\n",
       "    <tr style=\"text-align: right;\">\n",
       "      <th></th>\n",
       "      <th>0</th>\n",
       "    </tr>\n",
       "  </thead>\n",
       "  <tbody>\n",
       "    <tr>\n",
       "      <th>295</th>\n",
       "      <td>17461</td>\n",
       "    </tr>\n",
       "    <tr>\n",
       "      <th>296</th>\n",
       "      <td>18677</td>\n",
       "    </tr>\n",
       "    <tr>\n",
       "      <th>297</th>\n",
       "      <td>26943</td>\n",
       "    </tr>\n",
       "    <tr>\n",
       "      <th>298</th>\n",
       "      <td>27443</td>\n",
       "    </tr>\n",
       "    <tr>\n",
       "      <th>299</th>\n",
       "      <td>24205</td>\n",
       "    </tr>\n",
       "  </tbody>\n",
       "</table>\n",
       "</div>"
      ],
      "text/plain": [
       "         0\n",
       "295  17461\n",
       "296  18677\n",
       "297  26943\n",
       "298  27443\n",
       "299  24205"
      ]
     },
     "execution_count": 14,
     "metadata": {},
     "output_type": "execute_result"
    }
   ],
   "source": [
    "#  Reindex the DataFrame so it goes from 0 to 299\n",
    "bigColumn.tail()"
   ]
  },
  {
   "cell_type": "code",
   "execution_count": 13,
   "metadata": {
    "collapsed": false
   },
   "outputs": [
    {
     "data": {
      "text/html": [
       "<div>\n",
       "<table border=\"1\" class=\"dataframe\">\n",
       "  <thead>\n",
       "    <tr style=\"text-align: right;\">\n",
       "      <th></th>\n",
       "      <th>0</th>\n",
       "    </tr>\n",
       "  </thead>\n",
       "  <tbody>\n",
       "    <tr>\n",
       "      <th>295</th>\n",
       "      <td>17461</td>\n",
       "    </tr>\n",
       "    <tr>\n",
       "      <th>296</th>\n",
       "      <td>18677</td>\n",
       "    </tr>\n",
       "    <tr>\n",
       "      <th>297</th>\n",
       "      <td>26943</td>\n",
       "    </tr>\n",
       "    <tr>\n",
       "      <th>298</th>\n",
       "      <td>27443</td>\n",
       "    </tr>\n",
       "    <tr>\n",
       "      <th>299</th>\n",
       "      <td>24205</td>\n",
       "    </tr>\n",
       "  </tbody>\n",
       "</table>\n",
       "</div>"
      ],
      "text/plain": [
       "         0\n",
       "295  17461\n",
       "296  18677\n",
       "297  26943\n",
       "298  27443\n",
       "299  24205"
      ]
     },
     "execution_count": 13,
     "metadata": {},
     "output_type": "execute_result"
    }
   ],
   "source": [
    "\n",
    "bigColumn.reset_index(drop=1, inplace=1)\n",
    "bigColumn.tail()"
   ]
  },
  {
   "cell_type": "code",
   "execution_count": null,
   "metadata": {
    "collapsed": true
   },
   "outputs": [],
   "source": []
  }
 ],
 "metadata": {
  "kernelspec": {
   "display_name": "Python 3",
   "language": "python",
   "name": "python3"
  },
  "language_info": {
   "codemirror_mode": {
    "name": "ipython",
    "version": 3
   },
   "file_extension": ".py",
   "mimetype": "text/x-python",
   "name": "python",
   "nbconvert_exporter": "python",
   "pygments_lexer": "ipython3",
   "version": "3.6.0"
  }
 },
 "nbformat": 4,
 "nbformat_minor": 2
}
